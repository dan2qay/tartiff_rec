{
 "cells": [
  {
   "cell_type": "markdown",
   "metadata": {},
   "source": [
    "# Рекомендация тарифов"
   ]
  },
  {
   "cell_type": "markdown",
   "metadata": {},
   "source": [
    "В вашем распоряжении данные о поведении клиентов, которые уже перешли на эти тарифы (из проекта курса «Статистический анализ данных»). Нужно построить модель для задачи классификации, которая выберет подходящий тариф. Предобработка данных не понадобится — вы её уже сделали.\n",
    "\n",
    "Постройте модель с максимально большим значением *accuracy*. Чтобы сдать проект успешно, нужно довести долю правильных ответов по крайней мере до 0.75. Проверьте *accuracy* на тестовой выборке самостоятельно."
   ]
  },
  {
   "cell_type": "markdown",
   "metadata": {},
   "source": [
    "## Импорт библиотек"
   ]
  },
  {
   "cell_type": "code",
   "execution_count": 29,
   "metadata": {},
   "outputs": [],
   "source": [
    "import numpy as np\n",
    "import pandas as pd \n",
    "import matplotlib.pyplot as plt\n",
    "from tqdm import tqdm\n",
    "\n",
    "import os\n",
    "\n",
    "from sklearn.metrics import roc_curve\n",
    "from sklearn.model_selection import train_test_split\n",
    "from sklearn.model_selection import GridSearchCV, RandomizedSearchCV\n",
    "\n",
    "from sklearn.neighbors import KNeighborsClassifier\n",
    "from sklearn.ensemble import RandomForestClassifier\n",
    "from sklearn.linear_model import LogisticRegression\n",
    "from sklearn.tree import DecisionTreeClassifier"
   ]
  },
  {
   "cell_type": "code",
   "execution_count": 2,
   "metadata": {},
   "outputs": [],
   "source": [
    "from sklearn.preprocessing import StandardScaler"
   ]
  },
  {
   "cell_type": "code",
   "execution_count": 3,
   "metadata": {},
   "outputs": [],
   "source": [
    "# добавим константу, так как ее будем менять в процессе\n",
    "random_state = 40"
   ]
  },
  {
   "cell_type": "markdown",
   "metadata": {},
   "source": [
    "## Откройте и изучите файл"
   ]
  },
  {
   "cell_type": "code",
   "execution_count": 4,
   "metadata": {},
   "outputs": [
    {
     "data": {
      "text/html": [
       "<div>\n",
       "<style scoped>\n",
       "    .dataframe tbody tr th:only-of-type {\n",
       "        vertical-align: middle;\n",
       "    }\n",
       "\n",
       "    .dataframe tbody tr th {\n",
       "        vertical-align: top;\n",
       "    }\n",
       "\n",
       "    .dataframe thead th {\n",
       "        text-align: right;\n",
       "    }\n",
       "</style>\n",
       "<table border=\"1\" class=\"dataframe\">\n",
       "  <thead>\n",
       "    <tr style=\"text-align: right;\">\n",
       "      <th></th>\n",
       "      <th>calls</th>\n",
       "      <th>minutes</th>\n",
       "      <th>messages</th>\n",
       "      <th>mb_used</th>\n",
       "      <th>is_ultra</th>\n",
       "    </tr>\n",
       "  </thead>\n",
       "  <tbody>\n",
       "    <tr>\n",
       "      <th>0</th>\n",
       "      <td>40.0</td>\n",
       "      <td>311.90</td>\n",
       "      <td>83.0</td>\n",
       "      <td>19915.42</td>\n",
       "      <td>0</td>\n",
       "    </tr>\n",
       "    <tr>\n",
       "      <th>1</th>\n",
       "      <td>85.0</td>\n",
       "      <td>516.75</td>\n",
       "      <td>56.0</td>\n",
       "      <td>22696.96</td>\n",
       "      <td>0</td>\n",
       "    </tr>\n",
       "    <tr>\n",
       "      <th>2</th>\n",
       "      <td>77.0</td>\n",
       "      <td>467.66</td>\n",
       "      <td>86.0</td>\n",
       "      <td>21060.45</td>\n",
       "      <td>0</td>\n",
       "    </tr>\n",
       "    <tr>\n",
       "      <th>3</th>\n",
       "      <td>106.0</td>\n",
       "      <td>745.53</td>\n",
       "      <td>81.0</td>\n",
       "      <td>8437.39</td>\n",
       "      <td>1</td>\n",
       "    </tr>\n",
       "    <tr>\n",
       "      <th>4</th>\n",
       "      <td>66.0</td>\n",
       "      <td>418.74</td>\n",
       "      <td>1.0</td>\n",
       "      <td>14502.75</td>\n",
       "      <td>0</td>\n",
       "    </tr>\n",
       "  </tbody>\n",
       "</table>\n",
       "</div>"
      ],
      "text/plain": [
       "   calls  minutes  messages   mb_used  is_ultra\n",
       "0   40.0   311.90      83.0  19915.42         0\n",
       "1   85.0   516.75      56.0  22696.96         0\n",
       "2   77.0   467.66      86.0  21060.45         0\n",
       "3  106.0   745.53      81.0   8437.39         1\n",
       "4   66.0   418.74       1.0  14502.75         0"
      ]
     },
     "execution_count": 4,
     "metadata": {},
     "output_type": "execute_result"
    }
   ],
   "source": [
    "path1 = '../data/users_behavior.csv'\n",
    "path2 = '/datasets/users_behavior.csv'\n",
    "\n",
    "if os.path.exists(path1):\n",
    "    users_behavior_df = pd.read_csv(path1)\n",
    "elif os.path.exists(path2):\n",
    "    users_behavior_df = pd.read_csv(path2)\n",
    "else:\n",
    "    print('OOoops!')\n",
    "\n",
    "users_behavior_df.head()"
   ]
  },
  {
   "cell_type": "code",
   "execution_count": 5,
   "metadata": {},
   "outputs": [
    {
     "name": "stdout",
     "output_type": "stream",
     "text": [
      "<class 'pandas.core.frame.DataFrame'>\n",
      "RangeIndex: 3214 entries, 0 to 3213\n",
      "Data columns (total 5 columns):\n",
      " #   Column    Non-Null Count  Dtype  \n",
      "---  ------    --------------  -----  \n",
      " 0   calls     3214 non-null   float64\n",
      " 1   minutes   3214 non-null   float64\n",
      " 2   messages  3214 non-null   float64\n",
      " 3   mb_used   3214 non-null   float64\n",
      " 4   is_ultra  3214 non-null   int64  \n",
      "dtypes: float64(4), int64(1)\n",
      "memory usage: 125.7 KB\n"
     ]
    }
   ],
   "source": [
    "users_behavior_df.info()"
   ]
  },
  {
   "cell_type": "markdown",
   "metadata": {},
   "source": [
    "Отлично, пропусков нет. Значит, все гуд. \n",
    "___\n",
    "\n",
    "Все же проведу некоторую предобработку - нормализую значения. Так же модели работать будут лучше? "
   ]
  },
  {
   "cell_type": "code",
   "execution_count": 6,
   "metadata": {},
   "outputs": [
    {
     "name": "stdout",
     "output_type": "stream",
     "text": [
      "(3214,)\n",
      "(3214, 4)\n"
     ]
    }
   ],
   "source": [
    "target = users_behavior_df['is_ultra']\n",
    "features = users_behavior_df.drop(['is_ultra'], axis=1)\n",
    "\n",
    "print(target.shape)\n",
    "print(features.shape)"
   ]
  },
  {
   "cell_type": "markdown",
   "metadata": {},
   "source": [
    "Проведем среднюю нормализацию. Кажется, она упрощает вычисления для моделей. Но это не точно. "
   ]
  },
  {
   "cell_type": "code",
   "execution_count": 7,
   "metadata": {},
   "outputs": [],
   "source": [
    "# features_normalized = (features - features.mean()) / features.std()\n",
    "# features_normalized.head()"
   ]
  },
  {
   "cell_type": "code",
   "execution_count": 8,
   "metadata": {},
   "outputs": [
    {
     "data": {
      "text/html": [
       "<div>\n",
       "<style scoped>\n",
       "    .dataframe tbody tr th:only-of-type {\n",
       "        vertical-align: middle;\n",
       "    }\n",
       "\n",
       "    .dataframe tbody tr th {\n",
       "        vertical-align: top;\n",
       "    }\n",
       "\n",
       "    .dataframe thead th {\n",
       "        text-align: right;\n",
       "    }\n",
       "</style>\n",
       "<table border=\"1\" class=\"dataframe\">\n",
       "  <thead>\n",
       "    <tr style=\"text-align: right;\">\n",
       "      <th></th>\n",
       "      <th>calls</th>\n",
       "      <th>minutes</th>\n",
       "      <th>messages</th>\n",
       "      <th>mb_used</th>\n",
       "    </tr>\n",
       "  </thead>\n",
       "  <tbody>\n",
       "    <tr>\n",
       "      <th>0</th>\n",
       "      <td>-0.693291</td>\n",
       "      <td>-0.538554</td>\n",
       "      <td>1.237282</td>\n",
       "      <td>0.357704</td>\n",
       "    </tr>\n",
       "    <tr>\n",
       "      <th>1</th>\n",
       "      <td>0.660858</td>\n",
       "      <td>0.334883</td>\n",
       "      <td>0.490244</td>\n",
       "      <td>0.725157</td>\n",
       "    </tr>\n",
       "    <tr>\n",
       "      <th>2</th>\n",
       "      <td>0.420121</td>\n",
       "      <td>0.125574</td>\n",
       "      <td>1.320287</td>\n",
       "      <td>0.508967</td>\n",
       "    </tr>\n",
       "    <tr>\n",
       "      <th>3</th>\n",
       "      <td>1.292794</td>\n",
       "      <td>1.310352</td>\n",
       "      <td>1.181946</td>\n",
       "      <td>-1.158590</td>\n",
       "    </tr>\n",
       "    <tr>\n",
       "      <th>4</th>\n",
       "      <td>0.089106</td>\n",
       "      <td>-0.083011</td>\n",
       "      <td>-1.031502</td>\n",
       "      <td>-0.357331</td>\n",
       "    </tr>\n",
       "  </tbody>\n",
       "</table>\n",
       "</div>"
      ],
      "text/plain": [
       "      calls   minutes  messages   mb_used\n",
       "0 -0.693291 -0.538554  1.237282  0.357704\n",
       "1  0.660858  0.334883  0.490244  0.725157\n",
       "2  0.420121  0.125574  1.320287  0.508967\n",
       "3  1.292794  1.310352  1.181946 -1.158590\n",
       "4  0.089106 -0.083011 -1.031502 -0.357331"
      ]
     },
     "execution_count": 8,
     "metadata": {},
     "output_type": "execute_result"
    }
   ],
   "source": [
    "scaler = StandardScaler()\n",
    "features_normalized = scaler.fit_transform(features)\n",
    "features_normalized = pd.DataFrame(features_normalized, columns=features.columns)\n",
    "features_normalized.head()"
   ]
  },
  {
   "cell_type": "markdown",
   "metadata": {},
   "source": [
    "## Разбейте данные на выборки"
   ]
  },
  {
   "cell_type": "code",
   "execution_count": 9,
   "metadata": {},
   "outputs": [],
   "source": [
    "features_train, features_test, target_train, target_test = train_test_split(\n",
    "                                                                            features_normalized,\n",
    "                                                                            target, \n",
    "                                                                            random_state=random_state, \n",
    "                                                                            test_size=0.25,\n",
    "                                                                            stratify=target, #стратифицируем по кол-ву классов\n",
    "                                                                            shuffle=True #встряхнем выборку\n",
    "                                                                           )"
   ]
  },
  {
   "cell_type": "code",
   "execution_count": 10,
   "metadata": {},
   "outputs": [],
   "source": [
    "# _np means not preproccessed \n",
    "features_train_np, features_test_np, target_train_np, target_test_np = train_test_split(\n",
    "                                                                            features,\n",
    "                                                                            target, \n",
    "                                                                            random_state=random_state, \n",
    "                                                                            test_size=0.25,\n",
    "                                                                            stratify=target, #стратифицируем по кол-ву классов\n",
    "                                                                            shuffle=True #встряхнем выборку\n",
    "                                                                           )"
   ]
  },
  {
   "cell_type": "markdown",
   "metadata": {},
   "source": [
    "# Сравнение моделей"
   ]
  },
  {
   "cell_type": "markdown",
   "metadata": {},
   "source": [
    "## Логрег"
   ]
  },
  {
   "cell_type": "code",
   "execution_count": 11,
   "metadata": {},
   "outputs": [],
   "source": [
    "parametrs    = {\n",
    "                'max_iter': np.arange(30, 50),\n",
    "               }\n",
    "\n",
    "logreg = LogisticRegression(random_state=random_state,)\n",
    "logreg_grid = GridSearchCV(logreg, parametrs, cv=4)\n",
    "\n",
    "logreg_grid.fit(features_train, target_train);"
   ]
  },
  {
   "cell_type": "code",
   "execution_count": 12,
   "metadata": {},
   "outputs": [],
   "source": [
    "parametrs_np    = {\n",
    "                'max_iter': np.arange(120, 200),\n",
    "               }\n",
    "logreg_np = LogisticRegression(random_state=random_state)\n",
    "logreg_grid_np = GridSearchCV(logreg_np, parametrs_np, cv=4)\n",
    "\n",
    "logreg_grid_np.fit(features_train_np, target_train_np);"
   ]
  },
  {
   "cell_type": "code",
   "execution_count": 13,
   "metadata": {},
   "outputs": [],
   "source": [
    "def ez_plot(grid, ar=np.arange(50, 100), label='model'):\n",
    "    plt.plot(ar, grid.cv_results_['mean_test_score'], 'o-', label=label)\n",
    "    plt.xlabel('mean cv score')\n",
    "    plt.ylabel('max_iter')\n",
    "    plt.title('gridsearch score')"
   ]
  },
  {
   "cell_type": "code",
   "execution_count": 14,
   "metadata": {},
   "outputs": [
    {
     "data": {
      "image/png": "[encoded data removed]",
      "text/plain": [
       "<Figure size 432x288 with 1 Axes>"
      ]
     },
     "metadata": {
      "needs_background": "light"
     },
     "output_type": "display_data"
    }
   ],
   "source": [
    "ez_plot(logreg_grid_np, ar=parametrs_np['max_iter'], label='без нормализации')\n",
    "ez_plot(logreg_grid, ar=parametrs['max_iter'], label='с нормализацией')\n",
    "plt.legend();"
   ]
  },
  {
   "cell_type": "code",
   "execution_count": 15,
   "metadata": {},
   "outputs": [
    {
     "data": {
      "text/plain": [
       "{'max_iter': 30}"
      ]
     },
     "execution_count": 15,
     "metadata": {},
     "output_type": "execute_result"
    }
   ],
   "source": [
    "final_logreg_model = logreg_grid.best_estimator_\n",
    "logreg_grid.best_params_"
   ]
  },
  {
   "cell_type": "code",
   "execution_count": 16,
   "metadata": {},
   "outputs": [
    {
     "name": "stdout",
     "output_type": "stream",
     "text": [
      " Скор с нормализацией: 0.74688916987598\n",
      " Скор без нормализации: 0.7340154157231561\n"
     ]
    }
   ],
   "source": [
    "print(f' Скор с нормализацией: {logreg_grid.best_score_}')\n",
    "print(f' Скор без нормализации: {logreg_grid_np.best_score_}')"
   ]
  },
  {
   "cell_type": "markdown",
   "metadata": {},
   "source": [
    "Здесь скор стабильный вне зависимости от количества итераций. Видимо, градиентный спуск нашел свой локальный минимум и сидит там."
   ]
  },
  {
   "cell_type": "markdown",
   "metadata": {},
   "source": [
    "## Дерево решений"
   ]
  },
  {
   "cell_type": "code",
   "execution_count": 17,
   "metadata": {},
   "outputs": [],
   "source": [
    "params = {'max_depth': np.arange(5, 25),}\n",
    "\n",
    "tree_model = DecisionTreeClassifier(random_state=random_state)\n",
    "tree_grid  = GridSearchCV(tree_model, params, cv=4)\n",
    "\n",
    "tree_grid.fit(features_train, target_train);"
   ]
  },
  {
   "cell_type": "markdown",
   "metadata": {},
   "source": [
    "Теперь построим график скора в зависмости от параметра."
   ]
  },
  {
   "cell_type": "code",
   "execution_count": 18,
   "metadata": {},
   "outputs": [
    {
     "data": {
      "text/plain": [
       "Text(0.5, 1.0, 'gridsearch score')"
      ]
     },
     "execution_count": 18,
     "metadata": {},
     "output_type": "execute_result"
    },
    {
     "data": {
      "image/png": "[encoded data removed]",
      "text/plain": [
       "<Figure size 432x288 with 1 Axes>"
      ]
     },
     "metadata": {
      "needs_background": "light"
     },
     "output_type": "display_data"
    }
   ],
   "source": [
    "plt.plot(np.arange(5, 25), tree_grid.cv_results_['mean_test_score'], 'o-')\n",
    "plt.xlabel('mean cv score')\n",
    "plt.ylabel('max_depth')\n",
    "plt.title('gridsearch score')"
   ]
  },
  {
   "cell_type": "code",
   "execution_count": 19,
   "metadata": {},
   "outputs": [
    {
     "data": {
      "text/plain": [
       "{'max_depth': 9}"
      ]
     },
     "execution_count": 19,
     "metadata": {},
     "output_type": "execute_result"
    }
   ],
   "source": [
    "final_tree_model = tree_grid.best_estimator_\n",
    "tree_grid.best_params_"
   ]
  },
  {
   "cell_type": "code",
   "execution_count": 20,
   "metadata": {},
   "outputs": [
    {
     "data": {
      "text/plain": [
       "0.7970880646600882"
      ]
     },
     "execution_count": 20,
     "metadata": {},
     "output_type": "execute_result"
    }
   ],
   "source": [
    "tree_grid.best_score_"
   ]
  },
  {
   "cell_type": "markdown",
   "metadata": {},
   "source": [
    "Лучший скор представвлен выше. Возможно, он изменится, если изменить рандом стейт. Но, в любом случае, идем дальше."
   ]
  },
  {
   "cell_type": "markdown",
   "metadata": {},
   "source": [
    "## Лес"
   ]
  },
  {
   "cell_type": "code",
   "execution_count": 21,
   "metadata": {},
   "outputs": [
    {
     "name": "stdout",
     "output_type": "stream",
     "text": [
      "CPU times: user 4min 24s, sys: 2.07 s, total: 4min 27s\n",
      "Wall time: 4min 27s\n"
     ]
    },
    {
     "data": {
      "text/plain": [
       "GridSearchCV(cv=4, estimator=RandomForestClassifier(random_state=40),\n",
       "             param_grid={'max_depth': array([5, 6, 7, 8, 9]),\n",
       "                         'n_estimators': array([10, 11, 12, 13, 14, 15, 16, 17, 18, 19, 20, 21, 22, 23, 24, 25, 26,\n",
       "       27, 28, 29, 30, 31, 32, 33, 34, 35, 36, 37, 38, 39, 40, 41, 42, 43,\n",
       "       44, 45, 46, 47, 48, 49, 50, 51, 52, 53, 54, 55, 56, 57, 58, 59, 60,\n",
       "       61, 62, 63, 64, 65, 66, 67, 68, 69, 70, 71, 72, 73, 74, 75, 76, 77,\n",
       "       78, 79, 80, 81, 82, 83, 84, 85, 86, 87, 88, 89, 90, 91, 92, 93, 94,\n",
       "       95, 96, 97, 98, 99])})"
      ]
     },
     "execution_count": 21,
     "metadata": {},
     "output_type": "execute_result"
    }
   ],
   "source": [
    "%%time\n",
    "params = {\n",
    "    'max_depth': np.arange(5, 10),\n",
    "    'n_estimators': np.arange(10, 100)\n",
    "         }\n",
    "\n",
    "forest_model = RandomForestClassifier(random_state=random_state)\n",
    "forest_grid  = GridSearchCV(forest_model, params, cv=4)\n",
    "\n",
    "forest_grid.fit(features_train, target_train);"
   ]
  },
  {
   "cell_type": "code",
   "execution_count": 22,
   "metadata": {},
   "outputs": [
    {
     "data": {
      "text/plain": [
       "{'max_depth': 9, 'n_estimators': 15}"
      ]
     },
     "execution_count": 22,
     "metadata": {},
     "output_type": "execute_result"
    }
   ],
   "source": [
    "final_forest_model = forest_grid.best_estimator_\n",
    "forest_grid.best_params_"
   ]
  },
  {
   "cell_type": "markdown",
   "metadata": {},
   "source": [
    "Скор уже выше и, вероятно, модель не переобучилась на данных - каждый раз мы ее прогоняли по кросс-валидации. Но и это не панацея. Модель может подстроиться под имеющийся датасет. Спасет только тестовая проверка."
   ]
  },
  {
   "cell_type": "markdown",
   "metadata": {},
   "source": [
    "## Проверьте модель на тестовой выборке"
   ]
  },
  {
   "cell_type": "code",
   "execution_count": 23,
   "metadata": {},
   "outputs": [
    {
     "name": "stdout",
     "output_type": "stream",
     "text": [
      "Скор рандомного леса на тестовой выборке:\n",
      "0.8109452736318408\n",
      "Скор логрега на тестовой выборке:\n",
      "0.7475124378109452\n",
      "Скор дерева на тестовой выборке:\n",
      "0.8034825870646766\n"
     ]
    }
   ],
   "source": [
    "print('Скор рандомного леса на тестовой выборке:')\n",
    "print(final_forest_model.score(features_test, target_test))\n",
    "print('Скор логрега на тестовой выборке:')\n",
    "print(final_logreg_model.score(features_test, target_test))\n",
    "print('Скор дерева на тестовой выборке:')\n",
    "print(final_tree_model.score(features_test, target_test))\n"
   ]
  },
  {
   "cell_type": "markdown",
   "metadata": {},
   "source": [
    "Как видно, лес показывает намного больший accuracy."
   ]
  },
  {
   "cell_type": "markdown",
   "metadata": {},
   "source": [
    "## Проверка моделей на адекватность"
   ]
  },
  {
   "cell_type": "markdown",
   "metadata": {},
   "source": [
    "Для проверки адекватности, дабы не перебирать примеры вручную, посмотрим на рок (не rock)."
   ]
  },
  {
   "cell_type": "code",
   "execution_count": 24,
   "metadata": {},
   "outputs": [],
   "source": [
    "from sklearn.metrics import roc_auc_score"
   ]
  },
  {
   "cell_type": "code",
   "execution_count": 25,
   "metadata": {},
   "outputs": [],
   "source": [
    "from sklearn.metrics import auc"
   ]
  },
  {
   "cell_type": "code",
   "execution_count": 26,
   "metadata": {},
   "outputs": [],
   "source": [
    "def appropriate(model, features, answers, label='model'):\n",
    "    predicted_probs = model.predict_proba(features)[:,1]\n",
    "    fpr, tpr, threshold = roc_curve(answers, predicted_probs)\n",
    "    ra_score = roc_auc_score(answers,predicted_probs)\n",
    "    \n",
    "    plt.plot(fpr, tpr, label=label+f', Roc-Auc = {ra_score:0.2f}')\n",
    "    plt.plot([0, 1], [0, 1],'r--')\n",
    "    plt.ylabel('True Positive Rate')\n",
    "    plt.xlabel('False Positive Rate')\n",
    "    plt.grid()"
   ]
  },
  {
   "cell_type": "code",
   "execution_count": 27,
   "metadata": {},
   "outputs": [
    {
     "data": {
      "text/plain": [
       "<matplotlib.legend.Legend at 0x7f8828e34820>"
      ]
     },
     "execution_count": 27,
     "metadata": {},
     "output_type": "execute_result"
    },
    {
     "data": {
      "image/png": "[encoded data removed]",
      "text/plain": [
       "<Figure size 1080x360 with 1 Axes>"
      ]
     },
     "metadata": {
      "needs_background": "light"
     },
     "output_type": "display_data"
    }
   ],
   "source": [
    "plt.figure(figsize=(15, 5))\n",
    "appropriate(final_forest_model, features_test, target_test, 'Forest')\n",
    "appropriate(final_logreg_model, features_test, target_test, 'Logreg')\n",
    "appropriate(final_tree_model, features_test, target_test, 'Tree')\n",
    "plt.legend()"
   ]
  },
  {
   "cell_type": "markdown",
   "metadata": {},
   "source": [
    "По сравнению с рандомной моделью, избранная мной ведет себя более адекватно. Да и по сравнению с остальными тоже."
   ]
  },
  {
   "cell_type": "markdown",
   "metadata": {},
   "source": [
    "# Вывод\n",
    "\n",
    "Одно дерево хорошо, а много - лучше. Но много деревьев - это очень долго, а одно - быстро.  \n",
    "Логистическая регрессия совсем плохо себя показала - видимо, без фича инжиниринга не обойтись. Хотя решает она достаточно быстро. Можно сказать, молниеносно. Компромисс между скоростью и результатом - дерево решений. Но мой выбор - рандомный лес. "
   ]
  }
 ],
 "metadata": {
  "ExecuteTimeLog": [
   {
    "duration": 1951,
    "start_time": "2022-07-02T09:30:47.154Z"
   },
   {
    "duration": 2,
    "start_time": "2022-07-02T09:30:49.108Z"
   },
   {
    "duration": 52,
    "start_time": "2022-07-02T09:30:49.112Z"
   },
   {
    "duration": 19,
    "start_time": "2022-07-02T09:30:49.167Z"
   },
   {
    "duration": 11,
    "start_time": "2022-07-02T09:30:49.190Z"
   },
   {
    "duration": 21,
    "start_time": "2022-07-02T09:30:49.203Z"
   },
   {
    "duration": 7,
    "start_time": "2022-07-02T09:30:49.226Z"
   },
   {
    "duration": 1344,
    "start_time": "2022-07-02T09:30:49.235Z"
   },
   {
    "duration": 334,
    "start_time": "2022-07-02T09:30:50.581Z"
   },
   {
    "duration": 5,
    "start_time": "2022-07-02T09:30:50.917Z"
   },
   {
    "duration": 884,
    "start_time": "2022-07-02T09:30:50.923Z"
   },
   {
    "duration": 152,
    "start_time": "2022-07-02T09:30:51.809Z"
   },
   {
    "duration": 7,
    "start_time": "2022-07-02T09:30:51.962Z"
   },
   {
    "duration": 7,
    "start_time": "2022-07-02T09:30:51.973Z"
   },
   {
    "duration": 264303,
    "start_time": "2022-07-02T09:30:51.983Z"
   },
   {
    "duration": 6,
    "start_time": "2022-07-02T09:35:16.289Z"
   },
   {
    "duration": 39,
    "start_time": "2022-07-02T09:35:16.297Z"
   },
   {
    "duration": 3,
    "start_time": "2022-07-02T09:35:16.338Z"
   },
   {
    "duration": 261,
    "start_time": "2022-07-02T09:35:16.343Z"
   },
   {
    "duration": 4,
    "start_time": "2022-07-02T09:35:16.607Z"
   },
   {
    "duration": 13,
    "start_time": "2022-07-02T09:35:16.612Z"
   },
   {
    "duration": 11,
    "start_time": "2022-07-02T09:35:16.627Z"
   },
   {
    "duration": 31,
    "start_time": "2022-07-02T09:35:16.639Z"
   },
   {
    "duration": 8,
    "start_time": "2022-07-02T09:35:16.673Z"
   },
   {
    "duration": 171,
    "start_time": "2022-07-02T09:35:16.684Z"
   },
   {
    "duration": 11,
    "start_time": "2022-07-02T09:35:16.857Z"
   },
   {
    "duration": 9,
    "start_time": "2022-07-02T09:35:16.873Z"
   },
   {
    "duration": 4,
    "start_time": "2022-07-02T09:35:18.317Z"
   },
   {
    "duration": 30,
    "start_time": "2022-07-02T09:35:19.641Z"
   },
   {
    "duration": 4,
    "start_time": "2022-07-02T09:35:21.421Z"
   },
   {
    "duration": 218,
    "start_time": "2022-07-02T09:35:21.858Z"
   },
   {
    "duration": 1481,
    "start_time": "2022-07-02T10:57:05.829Z"
   },
   {
    "duration": 3,
    "start_time": "2022-07-02T10:57:07.312Z"
   },
   {
    "duration": 63,
    "start_time": "2022-07-02T10:57:07.317Z"
   },
   {
    "duration": 13,
    "start_time": "2022-07-02T10:57:07.382Z"
   },
   {
    "duration": 12,
    "start_time": "2022-07-02T10:57:07.396Z"
   },
   {
    "duration": 23,
    "start_time": "2022-07-02T10:57:07.410Z"
   },
   {
    "duration": 9,
    "start_time": "2022-07-02T10:57:07.435Z"
   },
   {
    "duration": 885,
    "start_time": "2022-07-02T10:57:07.445Z"
   },
   {
    "duration": 327,
    "start_time": "2022-07-02T10:57:08.332Z"
   },
   {
    "duration": 4,
    "start_time": "2022-07-02T10:57:08.662Z"
   },
   {
    "duration": 870,
    "start_time": "2022-07-02T10:57:08.667Z"
   },
   {
    "duration": 137,
    "start_time": "2022-07-02T10:57:09.538Z"
   },
   {
    "duration": 4,
    "start_time": "2022-07-02T10:57:09.676Z"
   },
   {
    "duration": 9,
    "start_time": "2022-07-02T10:57:09.681Z"
   },
   {
    "duration": 30939,
    "start_time": "2022-07-02T10:57:09.692Z"
   },
   {
    "duration": 0,
    "start_time": "2022-07-02T10:57:40.633Z"
   },
   {
    "duration": 0,
    "start_time": "2022-07-02T10:57:40.635Z"
   },
   {
    "duration": 0,
    "start_time": "2022-07-02T10:57:40.636Z"
   },
   {
    "duration": 0,
    "start_time": "2022-07-02T10:57:40.637Z"
   },
   {
    "duration": 798,
    "start_time": "2022-07-02T11:02:36.871Z"
   },
   {
    "duration": 195392,
    "start_time": "2022-07-02T11:05:37.910Z"
   },
   {
    "duration": 0,
    "start_time": "2022-07-02T11:08:53.305Z"
   },
   {
    "duration": 0,
    "start_time": "2022-07-02T11:08:53.306Z"
   },
   {
    "duration": 0,
    "start_time": "2022-07-02T11:08:53.307Z"
   },
   {
    "duration": 3,
    "start_time": "2022-07-02T11:09:05.155Z"
   },
   {
    "duration": 3,
    "start_time": "2022-07-02T11:09:12.322Z"
   },
   {
    "duration": 9,
    "start_time": "2022-07-02T11:09:53.411Z"
   },
   {
    "duration": 10,
    "start_time": "2022-07-02T11:10:22.992Z"
   },
   {
    "duration": 7,
    "start_time": "2022-07-02T11:10:35.761Z"
   },
   {
    "duration": 11,
    "start_time": "2022-07-02T11:10:41.177Z"
   },
   {
    "duration": 4,
    "start_time": "2022-07-02T11:10:44.626Z"
   },
   {
    "duration": 11,
    "start_time": "2022-07-02T11:11:27.177Z"
   },
   {
    "duration": 13,
    "start_time": "2022-07-02T11:11:46.761Z"
   },
   {
    "duration": 6,
    "start_time": "2022-07-02T11:12:23.337Z"
   },
   {
    "duration": 709,
    "start_time": "2022-07-02T11:16:14.918Z"
   },
   {
    "duration": 193,
    "start_time": "2022-07-02T11:16:15.630Z"
   },
   {
    "duration": 1684,
    "start_time": "2022-07-02T11:16:21.846Z"
   },
   {
    "duration": 6,
    "start_time": "2022-07-02T11:16:35.743Z"
   },
   {
    "duration": 1716,
    "start_time": "2022-07-02T11:16:40.606Z"
   },
   {
    "duration": 5,
    "start_time": "2022-07-02T11:17:35.376Z"
   },
   {
    "duration": 3,
    "start_time": "2022-07-02T11:17:40.830Z"
   },
   {
    "duration": 4,
    "start_time": "2022-07-02T11:17:46.776Z"
   },
   {
    "duration": 1576,
    "start_time": "2022-07-02T11:18:30.048Z"
   },
   {
    "duration": 2199,
    "start_time": "2022-07-02T11:18:58.727Z"
   },
   {
    "duration": 1241,
    "start_time": "2022-07-02T11:19:58.590Z"
   },
   {
    "duration": 5228,
    "start_time": "2022-07-02T11:20:45.918Z"
   },
   {
    "duration": 5511,
    "start_time": "2022-07-02T11:20:54.614Z"
   },
   {
    "duration": 5688,
    "start_time": "2022-07-02T11:21:01.037Z"
   },
   {
    "duration": 9,
    "start_time": "2022-07-02T11:21:27.983Z"
   },
   {
    "duration": 3,
    "start_time": "2022-07-02T11:21:30.645Z"
   },
   {
    "duration": 107,
    "start_time": "2022-07-02T11:21:30.949Z"
   },
   {
    "duration": 4,
    "start_time": "2022-07-02T11:22:16.897Z"
   },
   {
    "duration": 124,
    "start_time": "2022-07-02T11:22:17.286Z"
   },
   {
    "duration": 240,
    "start_time": "2022-07-02T11:22:41.992Z"
   },
   {
    "duration": 8544,
    "start_time": "2022-07-02T11:22:51.188Z"
   },
   {
    "duration": 9,
    "start_time": "2022-07-02T11:23:43.500Z"
   },
   {
    "duration": 8680,
    "start_time": "2022-07-02T11:23:46.849Z"
   },
   {
    "duration": 95,
    "start_time": "2022-07-02T11:23:55.532Z"
   },
   {
    "duration": 342,
    "start_time": "2022-07-02T11:23:55.630Z"
   },
   {
    "duration": 799,
    "start_time": "2022-07-02T11:24:16.427Z"
   },
   {
    "duration": 259,
    "start_time": "2022-07-02T11:24:18.235Z"
   },
   {
    "duration": 4,
    "start_time": "2022-07-02T11:25:25.787Z"
   },
   {
    "duration": 138,
    "start_time": "2022-07-02T11:25:27.170Z"
   },
   {
    "duration": 131,
    "start_time": "2022-07-02T11:25:31.211Z"
   },
   {
    "duration": 127,
    "start_time": "2022-07-02T11:25:41.075Z"
   },
   {
    "duration": 154,
    "start_time": "2022-07-02T11:25:43.955Z"
   },
   {
    "duration": 164,
    "start_time": "2022-07-02T11:25:46.435Z"
   },
   {
    "duration": 145,
    "start_time": "2022-07-02T11:25:49.356Z"
   },
   {
    "duration": 4,
    "start_time": "2022-07-02T11:27:40.546Z"
   },
   {
    "duration": 4,
    "start_time": "2022-07-02T11:27:51.121Z"
   },
   {
    "duration": 3,
    "start_time": "2022-07-02T11:28:30.590Z"
   },
   {
    "duration": 246690,
    "start_time": "2022-07-02T11:29:33.353Z"
   },
   {
    "duration": 9,
    "start_time": "2022-07-02T11:33:43.671Z"
   },
   {
    "duration": 2,
    "start_time": "2022-07-02T11:33:52.495Z"
   },
   {
    "duration": 4,
    "start_time": "2022-07-02T11:34:02.924Z"
   },
   {
    "duration": 12,
    "start_time": "2022-07-02T11:34:03.300Z"
   },
   {
    "duration": 4,
    "start_time": "2022-07-02T11:34:10.286Z"
   },
   {
    "duration": 29,
    "start_time": "2022-07-02T11:34:10.926Z"
   },
   {
    "duration": 2,
    "start_time": "2022-07-02T11:34:12.999Z"
   },
   {
    "duration": 5,
    "start_time": "2022-07-02T11:34:13.358Z"
   },
   {
    "duration": 224,
    "start_time": "2022-07-02T11:34:13.967Z"
   },
   {
    "duration": 2,
    "start_time": "2022-07-02T11:34:38.303Z"
   },
   {
    "duration": 5,
    "start_time": "2022-07-02T11:34:47.775Z"
   },
   {
    "duration": 199,
    "start_time": "2022-07-02T11:34:48.182Z"
   },
   {
    "duration": 5,
    "start_time": "2022-07-02T11:35:39.565Z"
   },
   {
    "duration": 4,
    "start_time": "2022-07-02T11:35:46.614Z"
   },
   {
    "duration": 5,
    "start_time": "2022-07-02T11:35:52.622Z"
   },
   {
    "duration": 4,
    "start_time": "2022-07-02T11:35:58.189Z"
   },
   {
    "duration": 213,
    "start_time": "2022-07-02T11:36:00.117Z"
   },
   {
    "duration": 4,
    "start_time": "2022-07-02T11:36:18.334Z"
   },
   {
    "duration": 194,
    "start_time": "2022-07-02T11:36:19.671Z"
   },
   {
    "duration": 1474,
    "start_time": "2022-07-02T11:37:09.863Z"
   },
   {
    "duration": 2,
    "start_time": "2022-07-02T11:37:11.339Z"
   },
   {
    "duration": 8,
    "start_time": "2022-07-02T11:37:11.342Z"
   },
   {
    "duration": 35,
    "start_time": "2022-07-02T11:37:11.352Z"
   },
   {
    "duration": 11,
    "start_time": "2022-07-02T11:37:11.389Z"
   },
   {
    "duration": 11,
    "start_time": "2022-07-02T11:37:11.401Z"
   },
   {
    "duration": 4,
    "start_time": "2022-07-02T11:37:11.413Z"
   },
   {
    "duration": 19,
    "start_time": "2022-07-02T11:37:11.418Z"
   },
   {
    "duration": 7,
    "start_time": "2022-07-02T11:37:11.439Z"
   },
   {
    "duration": 18,
    "start_time": "2022-07-02T11:37:11.449Z"
   },
   {
    "duration": 664,
    "start_time": "2022-07-02T11:37:11.468Z"
   },
   {
    "duration": 8901,
    "start_time": "2022-07-02T11:37:12.223Z"
   },
   {
    "duration": 4,
    "start_time": "2022-07-02T11:37:21.127Z"
   },
   {
    "duration": 259,
    "start_time": "2022-07-02T11:37:21.133Z"
   },
   {
    "duration": 4,
    "start_time": "2022-07-02T11:37:21.394Z"
   },
   {
    "duration": 6,
    "start_time": "2022-07-02T11:37:21.400Z"
   },
   {
    "duration": 802,
    "start_time": "2022-07-02T11:37:21.407Z"
   },
   {
    "duration": 135,
    "start_time": "2022-07-02T11:37:22.211Z"
   },
   {
    "duration": 4,
    "start_time": "2022-07-02T11:37:22.347Z"
   },
   {
    "duration": 24,
    "start_time": "2022-07-02T11:37:22.352Z"
   },
   {
    "duration": 246996,
    "start_time": "2022-07-02T11:37:22.378Z"
   },
   {
    "duration": 4,
    "start_time": "2022-07-02T11:41:29.375Z"
   },
   {
    "duration": 16,
    "start_time": "2022-07-02T11:41:29.380Z"
   },
   {
    "duration": 6,
    "start_time": "2022-07-02T11:41:29.397Z"
   },
   {
    "duration": 19,
    "start_time": "2022-07-02T11:41:29.404Z"
   },
   {
    "duration": 8,
    "start_time": "2022-07-02T11:41:29.425Z"
   },
   {
    "duration": 202,
    "start_time": "2022-07-02T11:41:29.435Z"
   },
   {
    "duration": 702,
    "start_time": "2022-07-08T16:00:52.746Z"
   },
   {
    "duration": 1400,
    "start_time": "2022-07-08T16:01:18.460Z"
   },
   {
    "duration": 3,
    "start_time": "2022-07-08T16:01:19.862Z"
   },
   {
    "duration": 7,
    "start_time": "2022-07-08T16:01:19.866Z"
   },
   {
    "duration": 57,
    "start_time": "2022-07-08T16:01:19.875Z"
   },
   {
    "duration": 14,
    "start_time": "2022-07-08T16:01:19.934Z"
   },
   {
    "duration": 10,
    "start_time": "2022-07-08T16:01:19.949Z"
   },
   {
    "duration": 8,
    "start_time": "2022-07-08T16:01:19.960Z"
   },
   {
    "duration": 28,
    "start_time": "2022-07-08T16:01:19.970Z"
   },
   {
    "duration": 9,
    "start_time": "2022-07-08T16:01:20.000Z"
   },
   {
    "duration": 62,
    "start_time": "2022-07-08T16:01:20.013Z"
   },
   {
    "duration": 852,
    "start_time": "2022-07-08T16:01:20.077Z"
   },
   {
    "duration": 10105,
    "start_time": "2022-07-08T16:01:20.932Z"
   },
   {
    "duration": 5,
    "start_time": "2022-07-08T16:01:31.125Z"
   },
   {
    "duration": 297,
    "start_time": "2022-07-08T16:01:31.132Z"
   },
   {
    "duration": 4,
    "start_time": "2022-07-08T16:01:31.431Z"
   },
   {
    "duration": 16,
    "start_time": "2022-07-08T16:01:31.436Z"
   },
   {
    "duration": 870,
    "start_time": "2022-07-08T16:01:31.454Z"
   },
   {
    "duration": 150,
    "start_time": "2022-07-08T16:01:32.326Z"
   },
   {
    "duration": 4,
    "start_time": "2022-07-08T16:01:32.477Z"
   },
   {
    "duration": 8,
    "start_time": "2022-07-08T16:01:32.483Z"
   },
   {
    "duration": 267273,
    "start_time": "2022-07-08T16:01:32.493Z"
   },
   {
    "duration": 4,
    "start_time": "2022-07-08T16:05:59.767Z"
   },
   {
    "duration": 21,
    "start_time": "2022-07-08T16:05:59.773Z"
   },
   {
    "duration": 12,
    "start_time": "2022-07-08T16:05:59.795Z"
   },
   {
    "duration": 9,
    "start_time": "2022-07-08T16:05:59.808Z"
   },
   {
    "duration": 10,
    "start_time": "2022-07-08T16:05:59.823Z"
   },
   {
    "duration": 233,
    "start_time": "2022-07-08T16:05:59.835Z"
   },
   {
    "duration": 3,
    "start_time": "2022-07-08T16:06:00.072Z"
   },
   {
    "duration": 5,
    "start_time": "2022-07-08T16:06:45.201Z"
   },
   {
    "duration": 114,
    "start_time": "2022-07-08T16:07:09.786Z"
   },
   {
    "duration": 4,
    "start_time": "2022-07-08T16:07:48.713Z"
   },
   {
    "duration": 3,
    "start_time": "2022-07-08T16:08:26.296Z"
   },
   {
    "duration": 3,
    "start_time": "2022-07-08T16:08:43.600Z"
   },
   {
    "duration": 5,
    "start_time": "2022-07-08T16:08:48.607Z"
   },
   {
    "duration": 3,
    "start_time": "2022-07-08T16:09:07.217Z"
   },
   {
    "duration": 560,
    "start_time": "2022-07-08T16:10:02.546Z"
   },
   {
    "duration": 3,
    "start_time": "2022-07-08T16:10:11.886Z"
   },
   {
    "duration": 559,
    "start_time": "2022-07-08T16:10:12.103Z"
   },
   {
    "duration": 4,
    "start_time": "2022-07-08T16:10:51.046Z"
   },
   {
    "duration": 4,
    "start_time": "2022-07-08T16:10:51.199Z"
   },
   {
    "duration": 3,
    "start_time": "2022-07-08T16:10:51.703Z"
   },
   {
    "duration": 789,
    "start_time": "2022-07-08T16:10:53.670Z"
   },
   {
    "duration": 663,
    "start_time": "2022-07-08T16:11:05.463Z"
   },
   {
    "duration": 5,
    "start_time": "2022-07-08T16:11:15.057Z"
   },
   {
    "duration": 4,
    "start_time": "2022-07-08T16:11:29.719Z"
   },
   {
    "duration": 19,
    "start_time": "2022-07-08T16:11:47.639Z"
   },
   {
    "duration": 19,
    "start_time": "2022-07-08T16:11:59.022Z"
   },
   {
    "duration": 24,
    "start_time": "2022-07-08T16:12:14.150Z"
   },
   {
    "duration": 16,
    "start_time": "2022-07-08T16:12:31.648Z"
   },
   {
    "duration": 12,
    "start_time": "2022-07-08T16:12:50.190Z"
   },
   {
    "duration": 4,
    "start_time": "2022-07-08T16:13:12.190Z"
   },
   {
    "duration": 14,
    "start_time": "2022-07-08T16:13:22.491Z"
   },
   {
    "duration": 4,
    "start_time": "2022-07-08T16:13:32.357Z"
   },
   {
    "duration": 5,
    "start_time": "2022-07-08T16:13:45.366Z"
   },
   {
    "duration": 4,
    "start_time": "2022-07-08T16:14:01.250Z"
   },
   {
    "duration": 180020,
    "start_time": "2022-07-08T16:14:48.718Z"
   },
   {
    "duration": 6,
    "start_time": "2022-07-08T16:18:19.780Z"
   },
   {
    "duration": 27,
    "start_time": "2022-07-08T16:19:29.560Z"
   },
   {
    "duration": 759,
    "start_time": "2022-07-08T16:20:36.643Z"
   },
   {
    "duration": 0,
    "start_time": "2022-07-08T16:20:37.404Z"
   },
   {
    "duration": 13,
    "start_time": "2022-07-08T16:20:57.147Z"
   },
   {
    "duration": 13,
    "start_time": "2022-07-08T16:21:10.939Z"
   },
   {
    "duration": 138,
    "start_time": "2022-07-08T16:21:12.564Z"
   },
   {
    "duration": 6,
    "start_time": "2022-07-08T16:21:12.745Z"
   },
   {
    "duration": 189,
    "start_time": "2022-07-08T16:21:28.522Z"
   }
  ],
  "kernelspec": {
   "display_name": "Python 3 (ipykernel)",
   "language": "python",
   "name": "python3"
  },
  "language_info": {
   "codemirror_mode": {
    "name": "ipython",
    "version": 3
   },
   "file_extension": ".py",
   "mimetype": "text/x-python",
   "name": "python",
   "nbconvert_exporter": "python",
   "pygments_lexer": "ipython3",
   "version": "3.9.5"
  },
  "toc": {
   "base_numbering": 1,
   "nav_menu": {},
   "number_sections": true,
   "sideBar": true,
   "skip_h1_title": true,
   "title_cell": "Table of Contents",
   "title_sidebar": "Contents",
   "toc_cell": false,
   "toc_position": {},
   "toc_section_display": true,
   "toc_window_display": false
  }
 },
 "nbformat": 4,
 "nbformat_minor": 2
}
